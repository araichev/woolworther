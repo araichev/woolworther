{
 "cells": [
  {
   "cell_type": "code",
   "execution_count": null,
   "metadata": {},
   "outputs": [],
   "source": [
    "import datetime as dt\n",
    "import sys\n",
    "import os\n",
    "\n",
    "from dotenv import load_dotenv, find_dotenv\n",
    "\n",
    "sys.path.append(\"../\")\n",
    "import woolworther as ww\n",
    "\n",
    "load_dotenv(find_dotenv())\n",
    "\n",
    "%load_ext autoreload\n",
    "%autoreload 2\n"
   ]
  },
  {
   "cell_type": "code",
   "execution_count": null,
   "metadata": {},
   "outputs": [],
   "source": [
    "# Read a watchlist\n",
    "\n",
    "stock_codes = ww.read_watchlist(ww.DATA_DIR / \"watchlist.csv\")\n",
    "display(stock_codes)\n",
    "\n",
    "url = \"https://docs.google.com/spreadsheets/d/1Cu8wEckdfGPtkN9zj5H8O_4ZUrQyrXBZ8Um-K2BSlnc/edit?usp=drive_link\"\n",
    "stock_codes = ww.read_watchlist(url)\n",
    "display(stock_codes)\n"
   ]
  },
  {
   "cell_type": "code",
   "execution_count": null,
   "metadata": {},
   "outputs": [],
   "source": [
    "# Get and parse a product\n",
    "\n",
    "r = ww.get_product(stock_codes[0])\n",
    "ww.parse_product(r)"
   ]
  },
  {
   "cell_type": "code",
   "execution_count": null,
   "metadata": {},
   "outputs": [],
   "source": [
    "# Get and parse many products\n",
    "\n",
    "%time f = ww.collect_products(stock_codes)\n",
    "f"
   ]
  },
  {
   "cell_type": "code",
   "execution_count": null,
   "metadata": {},
   "outputs": [],
   "source": [
    "# Filter sales\n",
    "\n",
    "ww.filter_sales(f)"
   ]
  },
  {
   "cell_type": "code",
   "execution_count": null,
   "metadata": {},
   "outputs": [],
   "source": [
    "# Get products in bulk\n",
    "\n",
    "ww.run_pipeline(ww.DATA_DIR / 'watchlist.csv')"
   ]
  },
  {
   "cell_type": "code",
   "execution_count": null,
   "metadata": {},
   "outputs": [],
   "source": [
    "# Email sales\n",
    "recipients = [\"ibatatas@runbox.com\"]\n",
    "print(f\"Emailing {recipients}\")\n",
    "\n",
    "username = os.getenv('GMAIL_USERNAME')  # Replace with your GMail username\n",
    "password = os.getenv('GMAIL_PASSWORD')  # Replace with your GMail password\n",
    "ww.run_pipeline(ww.DATA_DIR / 'watchlist.csv', recipients, gmail_username=username, gmail_password=password)"
   ]
  },
  {
   "cell_type": "code",
   "execution_count": null,
   "metadata": {},
   "outputs": [],
   "source": []
  }
 ],
 "metadata": {
  "kernelspec": {
   "display_name": "Python 3 (ipykernel)",
   "language": "python",
   "name": "python3"
  },
  "language_info": {
   "codemirror_mode": {
    "name": "ipython",
    "version": 3
   },
   "file_extension": ".py",
   "mimetype": "text/x-python",
   "name": "python",
   "nbconvert_exporter": "python",
   "pygments_lexer": "ipython3",
   "version": "3.11.9"
  }
 },
 "nbformat": 4,
 "nbformat_minor": 4
}
